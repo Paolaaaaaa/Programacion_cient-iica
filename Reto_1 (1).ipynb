{
  "nbformat": 4,
  "nbformat_minor": 0,
  "metadata": {
    "colab": {
      "provenance": []
    },
    "kernelspec": {
      "name": "python3",
      "display_name": "Python 3"
    },
    "language_info": {
      "name": "python"
    }
  },
  "cells": [
    {
      "cell_type": "markdown",
      "source": [
        "# Reto 1: Planteamiento y análisis de un problema de optimización"
      ],
      "metadata": {
        "id": "CblxE5QAWMWk"
      }
    },
    {
      "cell_type": "markdown",
      "source": [
        "- Paola Andrea Campiño  202020785\n",
        "- Isabella Contreras Doria 202011871\n"
      ],
      "metadata": {
        "id": "Bzgn3hucTVIb"
      }
    },
    {
      "cell_type": "markdown",
      "source": [
        "# Contexto del Problema:\n",
        "\n",
        "Las enfermeras que trabajan en la clínica del Río en el área de urgencias, se quejaron de sus horarios. Ellas manifiestan que les gustaría trabajar cinco días consecutivos y tener dos días libres consecutivos cada siete días. La clínica recopiló la demanda de los pacientes por día de la semana y sabe cúantas enfermeras debe haber en el personal cada día a la demanda del servicio. La gerencia de Urgencias en la clínica quiere minimizar la nómina de enfermeras al tiempo que reducir las quejas de las enfermeras sobre\n",
        "sus horarios. Los niveles de dotación de personal y los gastos salariales previstos se muestran en la tabla 1, así como los posibles turnos durante la semana, organizados en la tabla 2.\n"
      ],
      "metadata": {
        "id": "u_FIe8egBikm"
      }
    },
    {
      "cell_type": "markdown",
      "source": [
        "# Explicación del problema general con palabras\n",
        "\n",
        "\n",
        "\n",
        "Objetivo general:\n",
        "- reducir los gastos salariales y beneficios de enfermería.\n",
        "\n",
        "Restricciones:\n",
        "- Hay un número minimo de enfermeras por día.\n",
        "- Las enfermeras solo pueden tener un turno de dos días libres.\n",
        "\n",
        "\n"
      ],
      "metadata": {
        "id": "n_pJV3onazuf"
      }
    },
    {
      "cell_type": "code",
      "source": [
        "import numpy as np\n",
        "import matplotlib.pyplot as plt\n",
        "from scipy.optimize import minimize"
      ],
      "metadata": {
        "id": "x91JfZagCXci"
      },
      "execution_count": null,
      "outputs": []
    },
    {
      "cell_type": "markdown",
      "source": [
        "## 1.1 Datos:\n",
        "\n",
        "**Tabla de turnos**\n",
        "\n",
        "| Turno | Días libre     |\n",
        "|--------|-----------|\n",
        "| A      | (0, 1)    |\n",
        "| B      | (1, 2)    |\n",
        "| C      | (2, 3)    |\n",
        "| D      | (3, 4)    |\n",
        "| E      | (4, 5)    |\n",
        "| F      | (5, 6)    |\n",
        "| G      | (6, 0)    |\n",
        "\n",
        "<br>\n",
        "\n",
        "**Cabe resaltar que:**\n",
        "\n",
        "| Número | Día de la semana     |\n",
        "|--------|-----------|\n",
        "| 1      | Lunes    |\n",
        "| 2      | Martes    |\n",
        "| 3      | Miercoles    |\n",
        "| 4      | jueves    |\n",
        "| 5      | Viernes    |\n",
        "| 6      | Sabado    |\n",
        "| 0      | Domingo    |\n",
        "\n",
        "<br>\n",
        "\n",
        "|          | Domingo | Lunes | Martes | Miércoles | Jueves | Viernes | Sábado |\n",
        "|----------|---------|-------|--------|-----------|--------|---------|--------|\n",
        "| Enfermeras mínimas | 5       | 4     | 3      | 3         | 3      | 4       | 6      |\n",
        "| Salario  | 320     | 240   | 240    | 240       | 240    | 240     | 320    |\n"
      ],
      "metadata": {
        "id": "B64wLfWAcFhn"
      }
    },
    {
      "cell_type": "code",
      "source": [
        "turnos =    [(0,1), (1,2),(2,3),(3,4),(4,5),(5,6),(6,0)]\n",
        "dot_gastos =[[5   ,4  ,3    ,3    ,3  ,4    ,6],\n",
        "             [320 ,240 ,240 ,240 ,240 ,240, 320 ]]"
      ],
      "metadata": {
        "id": "FDQTqc_qcExL"
      },
      "execution_count": null,
      "outputs": []
    },
    {
      "cell_type": "markdown",
      "source": [
        "## 1.2 Función objetivo y Variables de desición:\n",
        "\n",
        "### 1.2.1 Función objetivo:\n",
        "Se establece la función objetivo meadiante la siguiente expresión matematica:\n",
        "\n",
        "<br>\n",
        "\n",
        "\n",
        "$min( \\sum_{i \\in turnos}\n",
        "\\sum_{j \\in diasSemana}\n",
        "  x_i [persona] * salario_j[dinero/persona]|j\\not = turnos_{i0} \\land  j\\not = turnos_{i1} )$\n",
        "<br><br>\n",
        "**En pocas palabras:**\n",
        "<br>\n",
        "minimizar la sumatoria de el número de enfermeras por turno $x_i$ multilicado por el salario de los días laborales $salario_j$\n",
        "\n",
        "**Cabe resaltar que:**\n",
        " -  $x_i$ hace referencia a la cantidad de enfermeras que tienen el turno  $i$.\n",
        " - $turnos_{i0}$ es el primer día libre del turno.\n",
        " - $turnos_{i1}$ es el segundo día libre del turno.\n",
        "\n",
        "\n",
        "### 1.2.2 Variables de desición:\n",
        "\n",
        "Para este problema las variables de desición están relacionadas a la cantidad de enfermeras por Turno de descanso. Por lo que se podría pensar las variables de desción de la siguiente manera:\n",
        "- X= [x_0,x_1,x_2,x_3,x_4,x_5,x_6]<br>\n",
        "Así mismo es importante mencionar lo siguiente:\n",
        "\n",
        "- Turno A: $i= 0$,\n",
        "- Turno B: $i= 1$\n",
        "- Turno C: $i= 2$\n",
        "- Turno D: $i= 3$\n",
        "- Turno E: $i= 4$\n",
        "- Turno F: $i= 5$\n",
        "- Turno G: $i= 6$    \n",
        "\n"
      ],
      "metadata": {
        "id": "sdGGkzwkbzt0"
      }
    },
    {
      "cell_type": "code",
      "execution_count": null,
      "metadata": {
        "id": "rQEDNBO4BXHJ"
      },
      "outputs": [],
      "source": [
        "def funcion_objetivo(X):\n",
        "    z= 0\n",
        "    for i in range(0,len(turnos)):\n",
        "      for j in range(0, len(dot_gastos[0])):\n",
        "        if(j != turnos[i][0] and j != turnos[i][1]):\n",
        "          z+= X[i]*dot_gastos[1][j]\n",
        "    return z\n"
      ]
    },
    {
      "cell_type": "markdown",
      "source": [
        "### Descripción del código:\n",
        "- Se hace un recorrido por todos los turnos $i$. Dentro de ese reccorido se recorre los datos relacionados a los salarios y beneficios de enfermería por día de la semana $j$.\n",
        "\n",
        "\n",
        "- En caso de llegar un día de la semana $j$, en la que el turno $i$ no trabaje **NO** se contabiliza en la sumatoría de Salarios y beneficios de enfería total $z$, en caso contrario se multiplica por la cantidad total de enfermeras $X_i$ que tienen el turno $i$."
      ],
      "metadata": {
        "id": "xlJztxBsRycm"
      }
    },
    {
      "cell_type": "markdown",
      "source": [
        "## 1.3 Restricciones:\n",
        "\n",
        "A continuación una formulación general de la restricción de un número mínimo de enfermeras necesarias por día:\n",
        "\n",
        "\n",
        "##### **Restricción Lunes:**\n",
        "$∑_{i \\in Turnos} x_i [personas] - x_0 -x_1[personas]-enfermerasNecesarias_1[personas] $\n",
        "\n",
        "\n",
        "##### **Restricción Martes:**\n",
        "$∑_{i \\in Turnos} x_i [personas] - x_1 [personas]-x_2[personas]-enfermerasNecesariasn_2 [personas]$\n",
        "\n",
        "\n",
        "\n",
        "##### **Restricción Miercoles:**\n",
        "$∑_{i \\in Turnos} x_i [personas]- x_2 [personas]-x_3[personas]-enfermerasNecesarias_3 [personas] $\n",
        "\n",
        "\n",
        "##### **Restricción Jueves:**\n",
        "$∑_{i \\in Turnos} x_i [personas]- x_3 [personas]-x_4 [personas]-enfermerasNecesarias_4[personas] $\n",
        "\n",
        "\n",
        "##### **Restricción Viernes:**\n",
        "$∑_{i \\in Turnos} x_i[personas] - x_4 [personas]-x_5[personas]-enfermerasNecesarias_5[personas] $\n",
        "\n",
        "\n",
        "##### **Restricción Sabado:**\n",
        "$∑_{i \\in Turnos} x_i[personas] - x_5 [personas]-x_6[personas]-enfermerasNecesarias_6[personas] $\n",
        "\n",
        "\n",
        "##### **Restricción Domingo:**\n",
        "$∑_{i \\in Turnos} x_i [personas] - x_6 [personas]-x_0[personas]-enfermerasNecesarias_0[personas] $\n",
        "\n",
        "\n",
        "Cabe resaltar que:\n",
        "\n",
        "- enfermerasNecesarias$_i$: hace referencia al minimo de enfermeras requeridos por cada día de la semana. Tenga en cuenta que $i$: 0  domingo, 1  lunes, 2 martes , 3 miercoles, 4 jueves , 5 viernes y 6 sabados.\n"
      ],
      "metadata": {
        "id": "PAryMEdCazpe"
      }
    },
    {
      "cell_type": "code",
      "source": [
        "def enfermera_dia_l(X):\n",
        "      return sum(X)-X[0]-X[1]-dot_gastos[0][1]\n",
        "\n",
        "\n",
        "def enfermera_dia_ma(X):\n",
        "      return sum(X)-X[1]-X[2]-dot_gastos[0][2]\n",
        "\n",
        "\n",
        "def enfermera_dia_mier(X):\n",
        "      return sum(X)-X[2]-X[3]-dot_gastos[0][3]\n",
        "\n",
        "def enfermera_dia_juev(X):\n",
        "      return sum(X)-X[3]-X[4]-dot_gastos[0][4]\n",
        "\n",
        "def enfermera_dia_vier(X):\n",
        "      return sum(X)-X[4]-X[5]-dot_gastos[0][5]\n",
        "\n",
        "def enfermera_dia_sab(X):\n",
        "      return sum(X)-X[5]-X[6]-dot_gastos[0][6]\n",
        "\n",
        "def enfermera_dia_dom(X):\n",
        "      return sum(X)-X[0]-X[1]-dot_gastos[0][0]\n",
        "\n",
        "\n",
        "constraints = [{'type': 'ineq', 'fun': enfermera_dia_l},\n",
        "               {'type': 'ineq', 'fun': enfermera_dia_ma},\n",
        "               {'type': 'ineq', 'fun': enfermera_dia_mier},\n",
        "               {'type': 'ineq', 'fun': enfermera_dia_juev},\n",
        "               {'type': 'ineq', 'fun': enfermera_dia_vier},\n",
        "               {'type': 'ineq', 'fun': enfermera_dia_sab},\n",
        "               {'type': 'ineq', 'fun': enfermera_dia_dom}]"
      ],
      "metadata": {
        "id": "9dAtDs9EhOxd"
      },
      "execution_count": null,
      "outputs": []
    },
    {
      "cell_type": "markdown",
      "source": [
        "### Descripción del código:\n",
        "\n",
        "\n",
        "- Para cada uno de los días lo que dice es: **La total de enfermeras** - **aquellas que tienen día libre ese día**- **el minimo de enfermeras para ese día** $\\geq 0$.\n",
        "- Esto se establece esto para cada uno de los días de la semana."
      ],
      "metadata": {
        "id": "5Y5YkFoAUs23"
      }
    },
    {
      "cell_type": "markdown",
      "source": [
        "## **1.4.** Definir los límites para cada una de las variables (bounds)\n",
        "\n",
        "\n",
        "- Se sabe que las variable pueden tomar cualquier valor entre los números reales, pero este valor solo puede ser positivo (no hay manera de tener enfermeras negativas)."
      ],
      "metadata": {
        "id": "8Q6mQNR9CDjy"
      }
    },
    {
      "cell_type": "code",
      "source": [
        "initial_guess = [0,0,0,0,0,0,0]\n",
        "boundaries = [(0, None),(0, None),(0, None),(0, None),(0, None),(0, None),(0, None)]"
      ],
      "metadata": {
        "id": "j67-A0yQBzAO"
      },
      "execution_count": null,
      "outputs": []
    },
    {
      "cell_type": "markdown",
      "source": [
        "### Descripción del código:\n",
        "\n",
        "\n",
        "- se ha establecido los limites para cada variable entre $0\\leq n\\leq∞+$.\n",
        "- El valor inicial se ha tomado [0,0,0,0,0,0]."
      ],
      "metadata": {
        "id": "tShAjBqMR-d7"
      }
    },
    {
      "cell_type": "markdown",
      "source": [
        "## **1.5** Calculo del minimizador"
      ],
      "metadata": {
        "id": "GgHPFHGGCLwR"
      }
    },
    {
      "cell_type": "code",
      "source": [
        "\n",
        "resultado = minimize(funcion_objetivo, initial_guess, constraints=constraints,bounds=boundaries)\n",
        "print(resultado)"
      ],
      "metadata": {
        "colab": {
          "base_uri": "https://localhost:8080/"
        },
        "id": "zWhbwZp6CP7z",
        "outputId": "02b4aa99-acf1-4a9a-82be-8ca780f081cf"
      },
      "execution_count": null,
      "outputs": [
        {
          "output_type": "stream",
          "name": "stdout",
          "text": [
            " message: Positive directional derivative for linesearch\n",
            " success: False\n",
            "  status: 8\n",
            "     fun: 8079.959296382605\n",
            "       x: [ 1.000e+00  0.000e+00  2.000e+00  1.000e+00  2.000e+00\n",
            "            0.000e+00  0.000e+00]\n",
            "     nit: 7\n",
            "     jac: [ 1.280e+03  1.360e+03  1.360e+03  1.360e+03  1.360e+03\n",
            "            1.280e+03  1.200e+03]\n",
            "    nfev: 24\n",
            "    njev: 3\n"
          ]
        }
      ]
    },
    {
      "cell_type": "markdown",
      "source": [
        "**5.** Resultados"
      ],
      "metadata": {
        "id": "WHGeUXySDgTa"
      }
    },
    {
      "cell_type": "code",
      "source": [
        "rounded_solution = [round(val, 2) for val in resultado.x]\n",
        "\n",
        "print(\"Valor óptimo de las variables:\", rounded_solution)\n",
        "print(\"Valor óptimo de la función objetivo:\", resultado.fun)"
      ],
      "metadata": {
        "colab": {
          "base_uri": "https://localhost:8080/"
        },
        "id": "ySqZXsPvDham",
        "outputId": "decd4322-b141-44aa-bede-ae90d1d91128"
      },
      "execution_count": null,
      "outputs": [
        {
          "output_type": "stream",
          "name": "stdout",
          "text": [
            "Valor óptimo de las variables: [1.0, 0.0, 2.0, 1.0, 2.0, 0.0, 0.0]\n",
            "Valor óptimo de la función objetivo: 8079.959296382605\n"
          ]
        }
      ]
    },
    {
      "cell_type": "markdown",
      "source": [
        "### Descripción del código:\n",
        "\n",
        "- después de hacer uso de la función minimize se ha llegado a los resultados los cualesson redondeados de manera que se vean de manera clara.\n",
        "- Así mismo en consola se ve el valor que toma la función objetvio."
      ],
      "metadata": {
        "id": "dMGOMmzpVDjm"
      }
    },
    {
      "cell_type": "markdown",
      "source": [
        "## 1.7 Verificación de la solución."
      ],
      "metadata": {
        "id": "FfAJFvLJVUD_"
      }
    },
    {
      "cell_type": "code",
      "source": [
        "def check_result(X= rounded_solution):\n",
        "    todo_correcto = True\n",
        "    correct_rest = {}\n",
        "    correct_rest[\"Lunes\"]=enfermera_dia_l(X)\n",
        "    correct_rest[\"Martes\"]= enfermera_dia_ma(X)\n",
        "    correct_rest[\"Miercoles\"]=enfermera_dia_mier(X)\n",
        "    correct_rest[\"Jueves\"]=enfermera_dia_juev(X)\n",
        "    correct_rest[\"Viernes\"]=enfermera_dia_vier(X)\n",
        "    correct_rest[\"Sabados\"]=enfermera_dia_sab(X)\n",
        "    correct_rest[\"Domingo\"]=enfermera_dia_dom(X)\n",
        "    print(correct_rest)\n",
        "\n",
        "    for i in correct_rest:\n",
        "      if correct_rest[i]<0:\n",
        "        print(\"No se cumple la restricción para el \"+i+\" hay solo \"+str(correct_rest[i])+\" enfermeras, siendo el minimo de\"+str(abs(correct_rest[i])))\n",
        "        return todo_correcto\n",
        "\n",
        "\n",
        "\n",
        "    todo_correcto= True\n",
        "    return todo_correcto\n",
        "\n",
        "\n",
        "\n",
        "print (\"El resultado cumple con las restricciones: \"+str(check_result()))"
      ],
      "metadata": {
        "colab": {
          "base_uri": "https://localhost:8080/"
        },
        "id": "mQ6nOpyJVTLG",
        "outputId": "b14e69b6-5650-4fb5-c3b4-28a597554ca2"
      },
      "execution_count": null,
      "outputs": [
        {
          "output_type": "stream",
          "name": "stdout",
          "text": [
            "{'Lunes': 1.0, 'Martes': 1.0, 'Miercoles': 0.0, 'Jueves': 0.0, 'Viernes': 0.0, 'Sabados': 0.0, 'Domingo': 0.0}\n",
            "El resultado cumple con las restricciones: True\n"
          ]
        }
      ]
    },
    {
      "cell_type": "markdown",
      "source": [
        "### Descripción del código:\n",
        "\n",
        "Para hacer la verificación de los datos resultantes, se ha tomado la respuesta y usado las funciones que modelan la restricciones. Esto se guarda en un diccionario donde el día es la llave y el valor es el resultado de meterlo a la restricción. Si el valor es igual a un numero menor a 0, se puede decir que el resutado está mal pues hay pocas enfermeras disponibles para ese día.\n",
        "\n",
        "Así mismo la función da una respuesta siendo `True`, cuando el resultado cumple con las restricciones y `False` cuando no se cumple."
      ],
      "metadata": {
        "id": "Rnz2oonpa2aQ"
      }
    },
    {
      "cell_type": "markdown",
      "source": [
        "## 1.6 Solución al problema\n",
        "\n"
      ],
      "metadata": {
        "id": "oY1NTknEVEpT"
      }
    },
    {
      "cell_type": "code",
      "source": [
        "def print_recurso(solution=rounded_solution):\n",
        "    print(\"Nomina total Semanal para todas las enfermeras:\")\n",
        "    print(round(resultado.fun,2))\n",
        "\n",
        "\n",
        "\n",
        "\n",
        "    print(\"\\nCantidad de enfermeras por turno de días libres:\")\n",
        "\n",
        "    print(\"Turno A: \"+str(solution[0]))\n",
        "    print(\"Turno B: \"+str(solution[1]))\n",
        "    print(\"Turno C: \"+str(solution[2]))\n",
        "    print(\"Turno D: \"+str(solution[3]))\n",
        "    print(\"Turno E: \"+str(solution[4]))\n",
        "    print(\"Turno F: \"+str(solution[5]))\n",
        "    print(\"Turno G: \"+str(solution[6]))\n",
        "\n",
        "\n",
        "    print(\"\\n\")\n",
        "print_recurso()"
      ],
      "metadata": {
        "colab": {
          "base_uri": "https://localhost:8080/"
        },
        "id": "sGwqEomtHisR",
        "outputId": "07ee2120-05ea-42bd-86af-8427603943ca"
      },
      "execution_count": null,
      "outputs": [
        {
          "output_type": "stream",
          "name": "stdout",
          "text": [
            "Nomina total Semanal para todas las enfermeras:\n",
            "8079.96\n",
            "\n",
            "Cantidad de enfermeras por turno de días libres:\n",
            "Turno A: 1.0\n",
            "Turno B: 0.0\n",
            "Turno C: 2.0\n",
            "Turno D: 1.0\n",
            "Turno E: 2.0\n",
            "Turno F: 0.0\n",
            "Turno G: 0.0\n",
            "\n",
            "\n"
          ]
        }
      ]
    },
    {
      "cell_type": "markdown",
      "source": [
        "## 2. Análisis de la solución\n",
        "\n",
        "### 2.1 Prueba de puntos en la región factible:\n",
        "\n",
        "Tenga en cuenta que la variable objetivo llego a tomar un valor de 8,079.96, con el vector [1,0,2,1,2,0,0].\n",
        "\n",
        "\n",
        "Se realizó pruebas con diferentes valores que entran dentro de la región factible, y se ha encontrado que ninguno llega a ser menor. A continuación los puntos evaludos:\n",
        "- [2,1,1,1,1,1,2]\n"
      ],
      "metadata": {
        "id": "-JzjcCc3BYAt"
      }
    },
    {
      "cell_type": "code",
      "source": [
        "prueba_1=[2,1,1,1,1,1,2]\n",
        "print(funcion_objetivo(prueba_1))\n",
        "check_result(prueba_1)\n"
      ],
      "metadata": {
        "colab": {
          "base_uri": "https://localhost:8080/"
        },
        "id": "cDHwihvCBXZm",
        "outputId": "ff6d5e02-f936-44d6-e530-ef1aefdfa97b"
      },
      "execution_count": null,
      "outputs": [
        {
          "output_type": "stream",
          "name": "stdout",
          "text": [
            "{'Lunes': 2, 'Martes': 4, 'Miercoles': 4, 'Jueves': 4, 'Viernes': 3, 'Sabados': 0, 'Domingo': 1}\n"
          ]
        },
        {
          "output_type": "execute_result",
          "data": {
            "text/plain": [
              "True"
            ]
          },
          "metadata": {},
          "execution_count": 13
        }
      ]
    },
    {
      "cell_type": "code",
      "source": [
        "prueba_2= [1,2,1,1,1,1,1]\n",
        "\n",
        "print(funcion_objetivo(prueba_2))\n",
        "check_result(prueba_2)"
      ],
      "metadata": {
        "colab": {
          "base_uri": "https://localhost:8080/"
        },
        "id": "8l5rsdhRSa2A",
        "outputId": "bf7bac4c-ba73-4f60-9a47-1b6bc4e19894"
      },
      "execution_count": null,
      "outputs": [
        {
          "output_type": "stream",
          "name": "stdout",
          "text": [
            "10560\n",
            "{'Lunes': 1, 'Martes': 2, 'Miercoles': 3, 'Jueves': 3, 'Viernes': 2, 'Sabados': 0, 'Domingo': 0}\n"
          ]
        },
        {
          "output_type": "execute_result",
          "data": {
            "text/plain": [
              "True"
            ]
          },
          "metadata": {},
          "execution_count": 14
        }
      ]
    },
    {
      "cell_type": "markdown",
      "source": [
        "Cabe resaltar que se ha verificado que está en la región factible por medio de la función check_result en la que se evalua todos los valores para cada una de las restricciones, con lo que podemos notar que al ningun elemento dentro del diccionario estar en número negativo se puede decir que están en la región factible."
      ],
      "metadata": {
        "id": "w258tiLySfJv"
      }
    },
    {
      "cell_type": "markdown",
      "source": [
        "### 2.2 Prueba de diferentes puntos inciales:\n"
      ],
      "metadata": {
        "id": "P8qveULrNwIl"
      }
    },
    {
      "cell_type": "markdown",
      "source": [
        "En los siguientes ejemplos, se logra ver una prueba, la cual confirma que a pesar de tener distintos puntos iniciales, los resultados siguen siendo iguales para esta optimización. En el primer ejemplo se inicia con el punto [1,3,5,4,7,9,2] y en el segundo se inicia con el punto [2,4,6,8,10,12,14]"
      ],
      "metadata": {
        "id": "M5Y7bt2tP4IQ"
      }
    },
    {
      "cell_type": "code",
      "source": [
        "initial_guess = [1,3,5,4,7,9,2]\n",
        "boundaries = [(0, None),(0, None),(0, None),(0, None),(0, None),(0, None),(0, None)]\n",
        "\n",
        "resultado_prueba = minimize(funcion_objetivo, initial_guess, constraints=constraints,bounds=boundaries)\n",
        "print(resultado_prueba)\n",
        "\n",
        "rounded_solution = [round(val, 2) for val in resultado_prueba.x]\n",
        "\n",
        "print(\"Valor óptimo de las variables:\", rounded_solution)\n",
        "print(\"Valor óptimo de la función objetivo:\", resultado.fun)"
      ],
      "metadata": {
        "colab": {
          "base_uri": "https://localhost:8080/"
        },
        "id": "m321FEICOqJP",
        "outputId": "a5743643-64f0-4c90-a8e0-a78f398c213a"
      },
      "execution_count": null,
      "outputs": [
        {
          "output_type": "stream",
          "name": "stdout",
          "text": [
            " message: Optimization terminated successfully\n",
            " success: True\n",
            "  status: 0\n",
            "     fun: 8079.997026400088\n",
            "       x: [ 1.000e+00  0.000e+00  2.000e+00  1.000e+00  2.000e+00\n",
            "            0.000e+00  0.000e+00]\n",
            "     nit: 6\n",
            "     jac: [ 1.280e+03  1.360e+03  1.360e+03  1.360e+03  1.360e+03\n",
            "            1.280e+03  1.200e+03]\n",
            "    nfev: 16\n",
            "    njev: 2\n",
            "Valor óptimo de las variables: [1.0, 0.0, 2.0, 1.0, 2.0, 0.0, 0.0]\n",
            "Valor óptimo de la función objetivo: 8079.997026400088\n"
          ]
        }
      ]
    },
    {
      "cell_type": "code",
      "source": [
        "initial_guess = [2,4,6,8,10,12,14]\n",
        "boundaries = [(0, None),(0, None),(0, None),(0, None),(0, None),(0, None),(0, None)]\n",
        "\n",
        "resultado_prueba = minimize(funcion_objetivo, initial_guess, constraints=constraints,bounds=boundaries)\n",
        "print(resultado_prueba)\n",
        "\n",
        "rounded_solution = [round(val, 2) for val in resultado_prueba.x]\n",
        "\n",
        "print(\"Valor óptimo de las variables:\", rounded_solution)\n",
        "print(\"Valor óptimo de la función objetivo:\", resultado.fun)"
      ],
      "metadata": {
        "colab": {
          "base_uri": "https://localhost:8080/"
        },
        "id": "1uUS3_M-PnSR",
        "outputId": "4ade2293-2b2e-475d-bd27-d3b651a5d064"
      },
      "execution_count": null,
      "outputs": [
        {
          "output_type": "stream",
          "name": "stdout",
          "text": [
            " message: Optimization terminated successfully\n",
            " success: True\n",
            "  status: 0\n",
            "     fun: 8079.997374994038\n",
            "       x: [ 1.000e+00  3.901e-08  2.000e+00  1.000e+00  2.000e+00\n",
            "            3.637e-08  3.261e-08]\n",
            "     nit: 7\n",
            "     jac: [ 1.280e+03  1.360e+03  1.360e+03  1.360e+03  1.360e+03\n",
            "            1.280e+03  1.200e+03]\n",
            "    nfev: 28\n",
            "    njev: 3\n",
            "Valor óptimo de las variables: [1.0, 0.0, 2.0, 1.0, 2.0, 0.0, 0.0]\n",
            "Valor óptimo de la función objetivo: 8079.997026400088\n"
          ]
        }
      ]
    }
  ]
}